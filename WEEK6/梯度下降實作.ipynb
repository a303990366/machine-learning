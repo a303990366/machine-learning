{
 "cells": [
  {
   "cell_type": "code",
   "execution_count": 83,
   "metadata": {},
   "outputs": [],
   "source": [
    "#x=[-3,-1,0,1,4]\n",
    "#y=[6,4,2,0,-8]\n",
    "#test"
   ]
  },
  {
   "cell_type": "code",
   "execution_count": 84,
   "metadata": {},
   "outputs": [],
   "source": [
    "#pd1=pd.DataFrame(columns=(\"x\",\"y\"))\n",
    "#pd1[\"x\"]=x\n",
    "#pd1[\"y\"]=y\n",
    "#pd1\n",
    "#x=pd1.iloc[:,0].values\n",
    "#y=pd1.iloc[:,1].values"
   ]
  },
  {
   "cell_type": "code",
   "execution_count": 82,
   "metadata": {},
   "outputs": [],
   "source": [
    "import numpy as np\n",
    "import matplotlib.pyplot as plt\n",
    "import pandas as pd"
   ]
  },
  {
   "cell_type": "code",
   "execution_count": 91,
   "metadata": {},
   "outputs": [],
   "source": [
    "df=pd.read_csv(\"C:/Users/Administrator/Downloads/regression.csv\")\n",
    "x=np.array(df.iloc[:,0].values)\n",
    "y=np.array(df.iloc[:,1].values)"
   ]
  },
  {
   "cell_type": "code",
   "execution_count": 92,
   "metadata": {},
   "outputs": [],
   "source": [
    "eta=0.01\n",
    "count=200\n",
    "temp=[0,0]"
   ]
  },
  {
   "cell_type": "code",
   "execution_count": 93,
   "metadata": {},
   "outputs": [],
   "source": [
    "def computerCost1(k,j):\n",
    "    sum_h=0\n",
    "    for i in range(0,len(k)):\n",
    "        h=temp[0]+temp[1]*k[i]\n",
    "        h1=h-j[i]\n",
    "        h3=h1**2\n",
    "        sum_h+=h3\n",
    "        \n",
    "        \n",
    "    return (sum_h)/2\n"
   ]
  },
  {
   "cell_type": "code",
   "execution_count": 94,
   "metadata": {},
   "outputs": [],
   "source": [
    "def tempSave(k,j):\n",
    "    sum_h1=0\n",
    "    sum_h2=0\n",
    "    for i in range(0,len(k)):\n",
    "        h=temp[0]+temp[1]*k[i]\n",
    "        h1=h-j[i]\n",
    "        h2=h1*k[i]\n",
    "        sum_h1+=h1\n",
    "        sum_h2+=h2\n",
    "        \n",
    "        \n",
    "    return sum_h1,sum_h2   "
   ]
  },
  {
   "cell_type": "code",
   "execution_count": 95,
   "metadata": {},
   "outputs": [
    {
     "data": {
      "text/plain": [
       "1938623.5"
      ]
     },
     "execution_count": 95,
     "metadata": {},
     "output_type": "execute_result"
    }
   ],
   "source": [
    "computerCost1(x,y)"
   ]
  },
  {
   "cell_type": "code",
   "execution_count": 96,
   "metadata": {},
   "outputs": [],
   "source": [
    "for iter in range(1,count+1,1):\n",
    "    #update theta0 theta1\n",
    "    N_theta0,N_theta1=tempSave(x,y) \n",
    "    temp[0]=temp[0]-(eta*N_theta0)\n",
    "    temp[1]=temp[1]-(eta*N_theta1)\n",
    "    "
   ]
  },
  {
   "cell_type": "code",
   "execution_count": 97,
   "metadata": {},
   "outputs": [
    {
     "data": {
      "text/plain": [
       "[<matplotlib.lines.Line2D at 0x284031edd68>]"
      ]
     },
     "execution_count": 97,
     "metadata": {},
     "output_type": "execute_result"
    },
    {
     "data": {
      "image/png": "[encoded data removed]",
      "text/plain": [
       "<Figure size 432x288 with 1 Axes>"
      ]
     },
     "metadata": {
      "needs_background": "light"
     },
     "output_type": "display_data"
    }
   ],
   "source": [
    "plt.scatter(x,y)\n",
    "f= lambda x:temp[0]+temp[1]*x\n",
    "plt.plot(x,f(x),lw=2.5, c=\"k\")"
   ]
  },
  {
   "cell_type": "code",
   "execution_count": 49,
   "metadata": {},
   "outputs": [
    {
     "data": {
      "text/plain": [
       "54"
      ]
     },
     "execution_count": 49,
     "metadata": {},
     "output_type": "execute_result"
    }
   ],
   "source": []
  },
  {
   "cell_type": "code",
   "execution_count": null,
   "metadata": {},
   "outputs": [],
   "source": []
  }
 ],
 "metadata": {
  "kernelspec": {
   "display_name": "Python 3",
   "language": "python",
   "name": "python3"
  },
  "language_info": {
   "codemirror_mode": {
    "name": "ipython",
    "version": 3
   },
   "file_extension": ".py",
   "mimetype": "text/x-python",
   "name": "python",
   "nbconvert_exporter": "python",
   "pygments_lexer": "ipython3",
   "version": "3.7.3"
  }
 },
 "nbformat": 4,
 "nbformat_minor": 2
}
